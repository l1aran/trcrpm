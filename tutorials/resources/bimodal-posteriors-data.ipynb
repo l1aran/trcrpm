{
 "cells": [
  {
   "cell_type": "code",
   "execution_count": 1,
   "metadata": {},
   "outputs": [],
   "source": [
    "%matplotlib inline\n",
    "import matplotlib.pyplot as plt"
   ]
  },
  {
   "cell_type": "code",
   "execution_count": 2,
   "metadata": {},
   "outputs": [],
   "source": [
    "import numpy as np\n",
    "import pandas as pd"
   ]
  },
  {
   "cell_type": "code",
   "execution_count": 3,
   "metadata": {},
   "outputs": [],
   "source": [
    "ys = []\n",
    "ys.extend([0]*20)\n",
    "ys.extend(np.linspace(0, 2.5, 10))\n",
    "ys.extend(np.linspace(2.5, 5, 10))\n",
    "ys.extend([5]*15)\n",
    "ys.extend(np.linspace(5, 0, 15))\n",
    "ys.extend([0]*20)\n",
    "ys.extend(np.linspace(0, 2.5, 10))\n",
    "ys.extend(np.linspace(2.5, -2.5, 15))\n",
    "ys.extend(np.linspace(-2.5, 0, 15))\n",
    "ys.extend([0]*15)\n",
    "ys.extend(np.linspace(0, 2.5, 10))\n",
    "ys.extend(np.linspace(2.5, -2.5, 15))\n",
    "ys.extend(np.linspace(-2.5, 0, 15))\n",
    "ys.extend([0]*20)\n",
    "ys.extend(np.linspace(0, 2.5, 10))\n",
    "ys.extend(np.linspace(2.5, 5, 10))\n",
    "ys.extend([5]*15)\n",
    "ys.extend(np.linspace(5, 0, 15))\n",
    "ys.extend([0]*15)\n",
    "ys.extend(np.linspace(0, 2.5, 10))"
   ]
  },
  {
   "cell_type": "code",
   "execution_count": 4,
   "metadata": {},
   "outputs": [
    {
     "data": {
      "text/plain": [
       "<matplotlib.collections.PathCollection at 0x7fda99d2a610>"
      ]
     },
     "execution_count": 4,
     "metadata": {},
     "output_type": "execute_result"
    },
    {
     "data": {
      "image/png": "[encoded data removed]",
      "text/plain": [
       "<matplotlib.figure.Figure at 0x7fda9c02f3d0>"
      ]
     },
     "metadata": {},
     "output_type": "display_data"
    }
   ],
   "source": [
    "fig, ax = plt.subplots()\n",
    "xs = range(len(ys))\n",
    "ax.scatter(xs, ys)"
   ]
  },
  {
   "cell_type": "code",
   "execution_count": 5,
   "metadata": {},
   "outputs": [],
   "source": [
    "frame = pd.DataFrame(ys, columns=['y'])"
   ]
  },
  {
   "cell_type": "code",
   "execution_count": 6,
   "metadata": {},
   "outputs": [],
   "source": [
    "frame.to_csv('up-or-down.csv', index=False)"
   ]
  }
 ],
 "metadata": {
  "kernelspec": {
   "display_name": "Python 2",
   "language": "python",
   "name": "python2"
  },
  "language_info": {
   "codemirror_mode": {
    "name": "ipython",
    "version": 2
   },
   "file_extension": ".py",
   "mimetype": "text/x-python",
   "name": "python",
   "nbconvert_exporter": "python",
   "pygments_lexer": "ipython2",
   "version": "2.7.12"
  }
 },
 "nbformat": 4,
 "nbformat_minor": 2
}
